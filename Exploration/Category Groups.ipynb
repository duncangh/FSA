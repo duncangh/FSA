{
 "cells": [
  {
   "cell_type": "markdown",
   "metadata": {},
   "source": [
    "Use the us-gaap standards to map everything you need for all the ratios. Also use this to standardize statements and streamline cross company, cross industry, or cross economy analysis\n",
    "\n",
    "Example Mappings:\n",
    "\n",
    "interest bearing debt : all fields this applies to\n",
    "\n",
    "\n",
    "\n",
    "working capital : all related fields"
   ]
  },
  {
   "cell_type": "code",
   "execution_count": 11,
   "metadata": {
    "collapsed": false
   },
   "outputs": [
    {
     "ename": "ImportError",
     "evalue": "No module named 'Aggregation'",
     "output_type": "error",
     "traceback": [
      "\u001b[0;31m---------------------------------------------------------------------------\u001b[0m",
      "\u001b[0;31mImportError\u001b[0m                               Traceback (most recent call last)",
      "\u001b[0;32m<ipython-input-11-ac06f5a5eeaa>\u001b[0m in \u001b[0;36m<module>\u001b[0;34m()\u001b[0m\n\u001b[1;32m      7\u001b[0m \u001b[0;32mimport\u001b[0m \u001b[0mpickle\u001b[0m\u001b[0;34m\u001b[0m\u001b[0m\n\u001b[1;32m      8\u001b[0m \u001b[0;32mimport\u001b[0m \u001b[0mcollections\u001b[0m\u001b[0;34m\u001b[0m\u001b[0m\n\u001b[0;32m----> 9\u001b[0;31m \u001b[0;32mfrom\u001b[0m \u001b[0mAggregation\u001b[0m \u001b[0;32mimport\u001b[0m \u001b[0mAggregate\u001b[0m\u001b[0;34m\u001b[0m\u001b[0m\n\u001b[0m",
      "\u001b[0;31mImportError\u001b[0m: No module named 'Aggregation'"
     ]
    }
   ],
   "source": [
    "import pandas as pd\n",
    "import numpy as np\n",
    "import datetime\n",
    "import os\n",
    "import pandas as pd\n",
    "import numpy as np\n",
    "import pickle\n",
    "import collections\n",
    "from Aggregation import Aggregate"
   ]
  },
  {
   "cell_type": "code",
   "execution_count": 2,
   "metadata": {
    "collapsed": true
   },
   "outputs": [],
   "source": [
    "debt = np.array(['DueToRelatedPartiesCurrent', 'DebtCurrent',\n",
    "       'OtherShortTermBorrowings', 'BankOverdrafts', 'CommercialPaper',\n",
    "       'ShortTermBankLoansAndNotesPayable',\n",
    "       'CapitalLeaseObligationsCurrent', 'ShortTermBorrowings',\n",
    "       'LongTermDebtCurrent', 'LongTermDebtAndCapitalLeaseObligations',\n",
    "       'CapitalLeaseObligationsNoncurrent', 'OtherLongTermDebtNoncurrent',\n",
    "       'LongTermDebtAndCapitalLeaseObligationsCurrent',\n",
    "       'LongTermDebtNoncurrent', 'LongTermNotesPayable',\n",
    "       'SeniorLongTermNotes', 'ConvertibleLongTermNotesPayable'])\n",
    "\n",
    "current_assets = np.array(['IncomeTaxesReceivable', 'OtherAssetsCurrent',\n",
    "       'DeferredTaxAssetsLiabilitiesNetCurrent', 'RegulatoryAssetsCurrent',\n",
    "       'InventoryNet', 'OtherPrepaidExpenseCurrent',\n",
    "       'InventoryFinishedGoods', 'ReceivablesNetCurrent', 'PrepaidTaxes',\n",
    "       'InventoryWorkInProcess', 'PrepaidExpenseCurrent',\n",
    "       'DerivativeAssetsCurrent',\n",
    "       'AssetsOfDisposalGroupIncludingDiscontinuedOperationCurrent',\n",
    "       'InventoryRawMaterialsAndSupplies',\n",
    "       'CashAndCashEquivalentsAtCarryingValue', 'ShortTermInvestments',\n",
    "       'CapitalLeasedAssetsGross',\n",
    "       'RestrictedCashAndCashEquivalentsAtCarryingValue',\n",
    "       'RestrictedCashAndInvestmentsCurrent',\n",
    "       'CashEquivalentsAtCarryingValue', 'MarketableSecuritiesCurrent',\n",
    "       'MarketableSecuritiesCurrent', 'NotesAndLoansReceivableNetCurrent',\n",
    "       'AccountsReceivableNetCurrent',\n",
    "       'AvailableForSaleSecuritiesDebtSecuritiesCurrent',\n",
    "       'AvailableForSaleSecuritiesDebtSecuritiesCurrent',\n",
    "       'AvailableForSaleSecuritiesCurrent'])\n",
    "\n",
    "current_liabilities = np.array(['CostsInExcessOfBillingsOnUncompletedContractsOrProgramsExpectedToBeCollectedWithinOneYear',\n",
    "       'LiabilitiesOfDisposalGroupIncludingDiscontinuedOperationCurrent',\n",
    "       'OtherLiabilitiesCurrent', 'DueToRelatedPartiesCurrent',\n",
    "       'RegulatoryLiabilityCurrent', 'LiabilitiesCurrent',\n",
    "       'DeferredTaxLiabilitiesCurrent', 'AccountsPayableCurrent',\n",
    "       'DebtCurrent', 'AccountsPayableAndAccruedLiabilitiesCurrent',\n",
    "       'AccruedLiabilitiesCurrent', 'EmployeeRelatedLiabilitiesCurrent',\n",
    "       'DeferredRevenueCurrent', 'DeferredRevenueAndCreditsCurrent',\n",
    "       'DerivativeLiabilitiesCurrent', 'OtherShortTermBorrowings',\n",
    "       'BankOverdrafts', 'CommercialPaper', 'TaxesPayableCurrent',\n",
    "       'ShortTermBankLoansAndNotesPayable',\n",
    "       'CapitalLeaseObligationsCurrent', 'ShortTermBorrowings',\n",
    "       'LongTermDebtCurrent'])"
   ]
  },
  {
   "cell_type": "code",
   "execution_count": null,
   "metadata": {
    "collapsed": false
   },
   "outputs": [],
   "source": []
  },
  {
   "cell_type": "code",
   "execution_count": null,
   "metadata": {
    "collapsed": false
   },
   "outputs": [],
   "source": []
  },
  {
   "cell_type": "code",
   "execution_count": null,
   "metadata": {
    "collapsed": true
   },
   "outputs": [],
   "source": []
  }
 ],
 "metadata": {
  "kernelspec": {
   "display_name": "Python 3",
   "language": "python",
   "name": "python3"
  },
  "language_info": {
   "codemirror_mode": {
    "name": "ipython",
    "version": 3
   },
   "file_extension": ".py",
   "mimetype": "text/x-python",
   "name": "python",
   "nbconvert_exporter": "python",
   "pygments_lexer": "ipython3",
   "version": "3.5.2"
  }
 },
 "nbformat": 4,
 "nbformat_minor": 1
}
