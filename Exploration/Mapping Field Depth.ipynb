{
 "cells": [
  {
   "cell_type": "code",
   "execution_count": 1,
   "metadata": {
    "collapsed": true
   },
   "outputs": [],
   "source": [
    "import pandas as pd\n",
    "import numpy as np\n",
    "import os"
   ]
  },
  {
   "cell_type": "code",
   "execution_count": 2,
   "metadata": {
    "collapsed": true
   },
   "outputs": [],
   "source": [
    "xbrl = pd.read_excel('/Users/duncangh/PycharmProjects/FSA/XBRL.xlsx')"
   ]
  },
  {
   "cell_type": "code",
   "execution_count": 3,
   "metadata": {
    "collapsed": true
   },
   "outputs": [],
   "source": [
    "df = pd.read_csv('/Users/duncangh/PycharmProjects/FSA/Exploration/Master Fields.csv').iloc[:, 1:]"
   ]
  },
  {
   "cell_type": "markdown",
   "metadata": {},
   "source": [
    "Keep only relevant statements"
   ]
  },
  {
   "cell_type": "code",
   "execution_count": 15,
   "metadata": {
    "collapsed": true
   },
   "outputs": [],
   "source": [
    "xbrl.columns = ['Field', 'depth', 'order', 'official stmt']\n",
    "xbrl = xbrl[xbrl['official stmt'].isin(['124100 - Statement - Statement of Income, Statement [Table]',\n",
    "       '124000 - Statement - Statement of Income (Including Gross Margin), Statement [Table]',\n",
    "       '104000 - Statement - Statement of Financial Position, Classified, Statement [Table]',\n",
    "       '172600 - Statement - Statement of Cash Flows, Direct Method Operating Activities, Statement [Table]',\n",
    "       '152200 - Statement - Statement of Cash Flows, Statement [Table]'])]"
   ]
  },
  {
   "cell_type": "code",
   "execution_count": 17,
   "metadata": {
    "collapsed": false
   },
   "outputs": [],
   "source": [
    "combined = df.merge(xbrl, on='Field')\n",
    "cbg = combined.groupby('official stmt')"
   ]
  },
  {
   "cell_type": "code",
   "execution_count": 22,
   "metadata": {
    "collapsed": false
   },
   "outputs": [],
   "source": [
    "def field_depth(group):\n",
    "    return group.set_index('Field')['depth'].sort_values(ascending=False)\n",
    "final = cbg.apply(field_depth).to_frame()"
   ]
  },
  {
   "cell_type": "code",
   "execution_count": 32,
   "metadata": {
    "collapsed": false
   },
   "outputs": [],
   "source": [
    "final.to_csv('Mapping Field Depth.csv')"
   ]
  },
  {
   "cell_type": "code",
   "execution_count": 38,
   "metadata": {
    "collapsed": false
   },
   "outputs": [
    {
     "data": {
      "text/plain": [
       "Timedelta('12 days 18:25:00')"
      ]
     },
     "execution_count": 38,
     "metadata": {},
     "output_type": "execute_result"
    }
   ],
   "source": [
    "pd.to_datetime('today') - pd.to_datetime('2016-11-21 16:10:00')\n",
    "pd.to_datetime('today') - pd.to_datetime('2016-12-23 5:35:00')"
   ]
  },
  {
   "cell_type": "code",
   "execution_count": 41,
   "metadata": {
    "collapsed": false
   },
   "outputs": [
    {
     "data": {
      "text/plain": [
       "array(['DueToRelatedPartiesCurrent', 'DebtCurrent',\n",
       "       'OtherShortTermBorrowings', 'BankOverdrafts', 'CommercialPaper',\n",
       "       'ShortTermBankLoansAndNotesPayable',\n",
       "       'CapitalLeaseObligationsCurrent', 'ShortTermBorrowings',\n",
       "       'LongTermDebtCurrent', 'LongTermDebtAndCapitalLeaseObligations',\n",
       "       'CapitalLeaseObligationsNoncurrent', 'OtherLongTermDebtNoncurrent',\n",
       "       'LongTermDebtAndCapitalLeaseObligationsCurrent',\n",
       "       'LongTermDebtNoncurrent', 'SeniorLongTermNotes',\n",
       "       'ConvertibleLongTermNotesPayable'], \n",
       "      dtype='<U45')"
      ]
     },
     "execution_count": 41,
     "metadata": {},
     "output_type": "execute_result"
    }
   ],
   "source": [
    "interest_bearing = np.array(\"\"\"DueToRelatedPartiesCurrent\n",
    "DebtCurrent\n",
    "OtherShortTermBorrowings\n",
    "BankOverdrafts\n",
    "CommercialPaper\n",
    "ShortTermBankLoansAndNotesPayable\n",
    "CapitalLeaseObligationsCurrent\n",
    "ShortTermBorrowings\n",
    "LongTermDebtCurrent\n",
    "LongTermDebtAndCapitalLeaseObligations\n",
    "CapitalLeaseObligationsNoncurrent\n",
    "OtherLongTermDebtNoncurrent\n",
    "LongTermDebtAndCapitalLeaseObligationsCurrent\n",
    "LongTermDebtNoncurrent\n",
    "SeniorLongTermNotes\n",
    "ConvertibleLongTermNotesPayable\"\"\".split('\\n'))"
   ]
  },
  {
   "cell_type": "code",
   "execution_count": 43,
   "metadata": {
    "collapsed": false
   },
   "outputs": [
    {
     "data": {
      "text/plain": [
       "array(['RepaymentOfNotesReceivableFromRelatedParties',\n",
       "       'InterestPaidCapitalized', 'GainsLossesOnExtinguishmentOfDebt',\n",
       "       'ProceedsFromRepaymentsOfLongTermDebtAndCapitalSecurities',\n",
       "       'ProceedsFromRepaymentsOfCommercialPaper',\n",
       "       'ProceedsFromRepaymentsOfBankOverdrafts', 'ProceedsFromOtherDebt',\n",
       "       'PaymentsForProceedsFromLoansReceivable', 'PaymentsOfLoanCosts',\n",
       "       'RepaymentsOfOtherDebt', 'PaymentsOfDebtIssuanceCosts',\n",
       "       'ProceedsFromRepaymentsOfShortTermDebt',\n",
       "       'ProceedsFromShortTermDebt', 'RepaymentsOfLinesOfCredit',\n",
       "       'ProceedsFromLinesOfCredit',\n",
       "       'RepaymentsOfLongTermDebtAndCapitalSecurities',\n",
       "       'RepaymentsOfShortTermDebt',\n",
       "       'ProceedsFromShortTermDebtMaturingInMoreThanThreeMonths',\n",
       "       'ProceedsFromRepaymentsOfShortTermDebtMaturingInThreeMonthsOrLess',\n",
       "       'RepaymentsOfLongTermCapitalLeaseObligations',\n",
       "       'ProceedsFromIssuanceOfSecuredDebt',\n",
       "       'RepaymentsOfLongTermLinesOfCredit',\n",
       "       'ProceedsFromIssuanceOfSeniorLongTermDebt',\n",
       "       'RepaymentsOfUnsecuredDebt', 'ProceedsFromIssuanceOfLongTermDebt',\n",
       "       'ProceedsFromLongTermLinesOfCredit',\n",
       "       'ProceedsFromMaturitiesPrepaymentsAndCallsOfAvailableForSaleSecurities',\n",
       "       'RepaymentsOfLongTermDebt', 'RepaymentsOfSecuredDebt',\n",
       "       'RepaymentsOfAssumedDebt', 'RepaymentsOfOtherLongTermDebt',\n",
       "       'RepaymentsOfConvertibleDebt',\n",
       "       'ProceedsFromIssuanceOfUnsecuredDebt',\n",
       "       'ProceedsFromConvertibleDebt',\n",
       "       'ProceedsFromSaleOfAvailableForSaleSecuritiesDebt',\n",
       "       'RepaymentsOfSeniorDebt'], \n",
       "      dtype='<U69')"
      ]
     },
     "execution_count": 43,
     "metadata": {},
     "output_type": "execute_result"
    }
   ],
   "source": [
    "np.array(\"\"\"RepaymentOfNotesReceivableFromRelatedParties\n",
    "InterestPaidCapitalized\n",
    "GainsLossesOnExtinguishmentOfDebt\n",
    "ProceedsFromRepaymentsOfLongTermDebtAndCapitalSecurities\n",
    "ProceedsFromRepaymentsOfCommercialPaper\n",
    "ProceedsFromRepaymentsOfBankOverdrafts\n",
    "ProceedsFromOtherDebt\n",
    "PaymentsForProceedsFromLoansReceivable\n",
    "PaymentsOfLoanCosts\n",
    "RepaymentsOfOtherDebt\n",
    "PaymentsOfDebtIssuanceCosts\n",
    "ProceedsFromRepaymentsOfShortTermDebt\n",
    "ProceedsFromShortTermDebt\n",
    "RepaymentsOfLinesOfCredit\n",
    "ProceedsFromLinesOfCredit\n",
    "RepaymentsOfLongTermDebtAndCapitalSecurities\n",
    "RepaymentsOfShortTermDebt\n",
    "ProceedsFromShortTermDebtMaturingInMoreThanThreeMonths\n",
    "ProceedsFromRepaymentsOfShortTermDebtMaturingInThreeMonthsOrLess\n",
    "RepaymentsOfLongTermCapitalLeaseObligations\n",
    "ProceedsFromIssuanceOfSecuredDebt\n",
    "RepaymentsOfLongTermLinesOfCredit\n",
    "ProceedsFromIssuanceOfSeniorLongTermDebt\n",
    "RepaymentsOfUnsecuredDebt\n",
    "ProceedsFromIssuanceOfLongTermDebt\n",
    "ProceedsFromLongTermLinesOfCredit\n",
    "ProceedsFromMaturitiesPrepaymentsAndCallsOfAvailableForSaleSecurities\n",
    "RepaymentsOfLongTermDebt\n",
    "RepaymentsOfSecuredDebt\n",
    "RepaymentsOfAssumedDebt\n",
    "RepaymentsOfOtherLongTermDebt\n",
    "RepaymentsOfConvertibleDebt\n",
    "ProceedsFromIssuanceOfUnsecuredDebt\n",
    "ProceedsFromConvertibleDebt\n",
    "ProceedsFromSaleOfAvailableForSaleSecuritiesDebt\n",
    "RepaymentsOfSeniorDebt\"\"\".split('\\n'))\n",
    "\n",
    "debt_cash = ['RepaymentOfNotesReceivableFromRelatedParties',\n",
    "       'InterestPaidCapitalized', 'GainsLossesOnExtinguishmentOfDebt',\n",
    "       'ProceedsFromRepaymentsOfLongTermDebtAndCapitalSecurities',\n",
    "       'ProceedsFromRepaymentsOfCommercialPaper',\n",
    "       'ProceedsFromRepaymentsOfBankOverdrafts', 'ProceedsFromOtherDebt',\n",
    "       'PaymentsForProceedsFromLoansReceivable', 'PaymentsOfLoanCosts',\n",
    "       'RepaymentsOfOtherDebt', 'PaymentsOfDebtIssuanceCosts',\n",
    "       'ProceedsFromRepaymentsOfShortTermDebt',\n",
    "       'ProceedsFromShortTermDebt', 'RepaymentsOfLinesOfCredit',\n",
    "       'ProceedsFromLinesOfCredit',\n",
    "       'RepaymentsOfLongTermDebtAndCapitalSecurities',\n",
    "       'RepaymentsOfShortTermDebt',\n",
    "       'ProceedsFromShortTermDebtMaturingInMoreThanThreeMonths',\n",
    "       'ProceedsFromRepaymentsOfShortTermDebtMaturingInThreeMonthsOrLess',\n",
    "       'RepaymentsOfLongTermCapitalLeaseObligations',\n",
    "       'ProceedsFromIssuanceOfSecuredDebt',\n",
    "       'RepaymentsOfLongTermLinesOfCredit',\n",
    "       'ProceedsFromIssuanceOfSeniorLongTermDebt',\n",
    "       'RepaymentsOfUnsecuredDebt', 'ProceedsFromIssuanceOfLongTermDebt',\n",
    "       'ProceedsFromLongTermLinesOfCredit',\n",
    "       'ProceedsFromMaturitiesPrepaymentsAndCallsOfAvailableForSaleSecurities',\n",
    "       'RepaymentsOfLongTermDebt', 'RepaymentsOfSecuredDebt',\n",
    "       'RepaymentsOfAssumedDebt', 'RepaymentsOfOtherLongTermDebt',\n",
    "       'RepaymentsOfConvertibleDebt',\n",
    "       'ProceedsFromIssuanceOfUnsecuredDebt',\n",
    "       'ProceedsFromConvertibleDebt',\n",
    "       'ProceedsFromSaleOfAvailableForSaleSecuritiesDebt',\n",
    "       'RepaymentsOfSeniorDebt']"
   ]
  },
  {
   "cell_type": "code",
   "execution_count": null,
   "metadata": {
    "collapsed": true
   },
   "outputs": [],
   "source": [
    "Stan"
   ]
  }
 ],
 "metadata": {
  "kernelspec": {
   "display_name": "Python 3",
   "language": "python",
   "name": "python3"
  },
  "language_info": {
   "codemirror_mode": {
    "name": "ipython",
    "version": 3
   },
   "file_extension": ".py",
   "mimetype": "text/x-python",
   "name": "python",
   "nbconvert_exporter": "python",
   "pygments_lexer": "ipython3",
   "version": "3.5.2"
  }
 },
 "nbformat": 4,
 "nbformat_minor": 1
}
