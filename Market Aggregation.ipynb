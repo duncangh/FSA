{
 "cells": [
  {
   "cell_type": "code",
   "execution_count": 4,
   "metadata": {
    "collapsed": true
   },
   "outputs": [],
   "source": [
    "import os\n",
    "import pandas as pd\n",
    "import numpy as np\n",
    "import pickle\n",
    "import collections\n",
    "from Graham.Aggregation import Aggregate\n",
    "from Graham.Standard import Standardize\n",
    "pd.set_option('mode.chained_assignment', None)\n",
    "pd.set_option('display.width', 1500)\n",
    "pd.set_option('display.precision', 2)\n",
    "pd.options.display.float_format = '{:20,.2f}'.format"
   ]
  },
  {
   "cell_type": "code",
   "execution_count": 8,
   "metadata": {
    "collapsed": true
   },
   "outputs": [],
   "source": [
    "symbols = np.array(os.listdir('/Users/duncangh/PycharmProjects/FSA/data/financials_data/')[1:])"
   ]
  },
  {
   "cell_type": "code",
   "execution_count": 11,
   "metadata": {
    "collapsed": false
   },
   "outputs": [],
   "source": [
    "stock = Standardize('ADS')\n",
    "income = stock.income\n",
    "cash = stock.cash\n",
    "balance = stock.balance"
   ]
  },
  {
   "cell_type": "code",
   "execution_count": 21,
   "metadata": {
    "collapsed": false
   },
   "outputs": [],
   "source": [
    "def aggregate(symbols):\n",
    "    stock = Standardize('ADS')\n",
    "    main_income = stock.income\n",
    "    main_cash = stock.cash\n",
    "    main_balance = stock.balance\n",
    "    \n",
    "    for sym in symbols:\n",
    "        try:\n",
    "            sub_stock = Standardize(sym)\n",
    "            main_income.append(sub_stock.income)\n",
    "            main_cash.append(sub_stock.cash)\n",
    "            main_balance.append(sub_stock.balance)\n",
    "        except:\n",
    "            pass\n",
    "    \n",
    "    return main_income, main_cash, main_balance\n",
    "main_income, main_cash, main_balance = aggregate(symbols[1:])"
   ]
  },
  {
   "cell_type": "code",
   "execution_count": null,
   "metadata": {
    "collapsed": false
   },
   "outputs": [],
   "source": [
    "stock = Standardize('ADS')\n",
    "income = []\n",
    "for sym in symbols:\n",
    "    try:\n",
    "        income = Standardize(sym).income\n",
    "        income.loc[['Revenues', 'OperatingExpenses', 'OperatingIncomeLoss']]\n",
    "    except:\n",
    "        pass\n",
    "    "
   ]
  },
  {
   "cell_type": "code",
   "execution_count": 52,
   "metadata": {
    "collapsed": false
   },
   "outputs": [],
   "source": [
    "income = Standardize(sym).income\n",
    "fin = income.loc[['Revenues', 'OperatingExpenses', 'OperatingIncomeLoss']]"
   ]
  },
  {
   "cell_type": "code",
   "execution_count": 55,
   "metadata": {
    "collapsed": false
   },
   "outputs": [
    {
     "data": {
      "text/html": [
       "<div>\n",
       "<table border=\"1\" class=\"dataframe\">\n",
       "  <thead>\n",
       "    <tr style=\"text-align: right;\">\n",
       "      <th></th>\n",
       "      <th></th>\n",
       "      <th>2009</th>\n",
       "      <th>2010</th>\n",
       "      <th>2011</th>\n",
       "      <th>2012</th>\n",
       "      <th>2013</th>\n",
       "      <th>2014</th>\n",
       "      <th>2015</th>\n",
       "    </tr>\n",
       "  </thead>\n",
       "  <tbody>\n",
       "    <tr>\n",
       "      <th>Revenues</th>\n",
       "      <th>TSLA</th>\n",
       "      <td>111.94</td>\n",
       "      <td>116.74</td>\n",
       "      <td>204.24</td>\n",
       "      <td>413.26</td>\n",
       "      <td>2,013.50</td>\n",
       "      <td>3,198.36</td>\n",
       "      <td>4,046.03</td>\n",
       "    </tr>\n",
       "    <tr>\n",
       "      <th>OperatingExpenses</th>\n",
       "      <th>TSLA</th>\n",
       "      <td>61.43</td>\n",
       "      <td>177.57</td>\n",
       "      <td>313.08</td>\n",
       "      <td>424.35</td>\n",
       "      <td>517.54</td>\n",
       "      <td>1,068.36</td>\n",
       "      <td>1,640.13</td>\n",
       "    </tr>\n",
       "    <tr>\n",
       "      <th>OperatingIncomeLoss</th>\n",
       "      <th>TSLA</th>\n",
       "      <td>-51.90</td>\n",
       "      <td>-146.84</td>\n",
       "      <td>-251.49</td>\n",
       "      <td>-394.28</td>\n",
       "      <td>-61.28</td>\n",
       "      <td>-186.69</td>\n",
       "      <td>-716.63</td>\n",
       "    </tr>\n",
       "  </tbody>\n",
       "</table>\n",
       "</div>"
      ],
      "text/plain": [
       "                                         2009                 2010                 2011                 2012                 2013                 2014                 2015\n",
       "Revenues            TSLA               111.94               116.74               204.24               413.26             2,013.50             3,198.36             4,046.03\n",
       "OperatingExpenses   TSLA                61.43               177.57               313.08               424.35               517.54             1,068.36             1,640.13\n",
       "OperatingIncomeLoss TSLA               -51.90              -146.84              -251.49              -394.28               -61.28              -186.69              -716.63"
      ]
     },
     "execution_count": 55,
     "metadata": {},
     "output_type": "execute_result"
    }
   ],
   "source": [
    "fin.index = pd.MultiIndex.from_product([fin.index.values, [sym]])\n",
    "fin"
   ]
  },
  {
   "cell_type": "code",
   "execution_count": 57,
   "metadata": {
    "collapsed": false
   },
   "outputs": [
    {
     "data": {
      "text/html": [
       "<div>\n",
       "<table border=\"1\" class=\"dataframe\">\n",
       "  <thead>\n",
       "    <tr style=\"text-align: right;\">\n",
       "      <th></th>\n",
       "      <th></th>\n",
       "      <th>2007</th>\n",
       "      <th>2008</th>\n",
       "      <th>2009</th>\n",
       "      <th>2010</th>\n",
       "      <th>2011</th>\n",
       "      <th>2012</th>\n",
       "      <th>2013</th>\n",
       "      <th>2014</th>\n",
       "      <th>2015</th>\n",
       "    </tr>\n",
       "  </thead>\n",
       "  <tbody>\n",
       "    <tr>\n",
       "      <th>Revenues</th>\n",
       "      <th>AFL</th>\n",
       "      <td>15,393.00</td>\n",
       "      <td>16,554.00</td>\n",
       "      <td>18,254.00</td>\n",
       "      <td>20,732.00</td>\n",
       "      <td>22,171.00</td>\n",
       "      <td>25,364.00</td>\n",
       "      <td>23,939.00</td>\n",
       "      <td>22,728.00</td>\n",
       "      <td>20,872.00</td>\n",
       "    </tr>\n",
       "    <tr>\n",
       "      <th>OperatingExpenses</th>\n",
       "      <th>AFL</th>\n",
       "      <td>nan</td>\n",
       "      <td>nan</td>\n",
       "      <td>nan</td>\n",
       "      <td>nan</td>\n",
       "      <td>nan</td>\n",
       "      <td>nan</td>\n",
       "      <td>nan</td>\n",
       "      <td>nan</td>\n",
       "      <td>nan</td>\n",
       "    </tr>\n",
       "    <tr>\n",
       "      <th>OperatingIncomeLoss</th>\n",
       "      <th>AFL</th>\n",
       "      <td>nan</td>\n",
       "      <td>nan</td>\n",
       "      <td>nan</td>\n",
       "      <td>nan</td>\n",
       "      <td>nan</td>\n",
       "      <td>nan</td>\n",
       "      <td>nan</td>\n",
       "      <td>nan</td>\n",
       "      <td>nan</td>\n",
       "    </tr>\n",
       "  </tbody>\n",
       "</table>\n",
       "</div>"
      ],
      "text/plain": [
       "                                        2007                 2008                 2009                 2010                 2011                 2012                 2013                 2014                 2015\n",
       "Revenues            AFL            15,393.00            16,554.00            18,254.00            20,732.00            22,171.00            25,364.00            23,939.00            22,728.00            20,872.00\n",
       "OperatingExpenses   AFL                  nan                  nan                  nan                  nan                  nan                  nan                  nan                  nan                  nan\n",
       "OperatingIncomeLoss AFL                  nan                  nan                  nan                  nan                  nan                  nan                  nan                  nan                  nan"
      ]
     },
     "execution_count": 57,
     "metadata": {},
     "output_type": "execute_result"
    }
   ],
   "source": [
    "i2 = Standardize('AFL').income.loc[['Revenues', 'OperatingExpenses', 'OperatingIncomeLoss']]\n",
    "i2.index = pd.MultiIndex.from_product([i2.index.values, ['AFL']])\n",
    "i2"
   ]
  },
  {
   "cell_type": "code",
   "execution_count": 60,
   "metadata": {
    "collapsed": false
   },
   "outputs": [
    {
     "data": {
      "text/html": [
       "<div>\n",
       "<table border=\"1\" class=\"dataframe\">\n",
       "  <thead>\n",
       "    <tr style=\"text-align: right;\">\n",
       "      <th></th>\n",
       "      <th></th>\n",
       "      <th>2007</th>\n",
       "      <th>2008</th>\n",
       "      <th>2009</th>\n",
       "      <th>2010</th>\n",
       "      <th>2011</th>\n",
       "      <th>2012</th>\n",
       "      <th>2013</th>\n",
       "      <th>2014</th>\n",
       "      <th>2015</th>\n",
       "    </tr>\n",
       "  </thead>\n",
       "  <tbody>\n",
       "    <tr>\n",
       "      <th>Revenues</th>\n",
       "      <th>AFL</th>\n",
       "      <td>15,393.00</td>\n",
       "      <td>16,554.00</td>\n",
       "      <td>18,254.00</td>\n",
       "      <td>20,732.00</td>\n",
       "      <td>22,171.00</td>\n",
       "      <td>25,364.00</td>\n",
       "      <td>23,939.00</td>\n",
       "      <td>22,728.00</td>\n",
       "      <td>20,872.00</td>\n",
       "    </tr>\n",
       "    <tr>\n",
       "      <th>OperatingExpenses</th>\n",
       "      <th>AFL</th>\n",
       "      <td>nan</td>\n",
       "      <td>nan</td>\n",
       "      <td>nan</td>\n",
       "      <td>nan</td>\n",
       "      <td>nan</td>\n",
       "      <td>nan</td>\n",
       "      <td>nan</td>\n",
       "      <td>nan</td>\n",
       "      <td>nan</td>\n",
       "    </tr>\n",
       "    <tr>\n",
       "      <th>OperatingIncomeLoss</th>\n",
       "      <th>AFL</th>\n",
       "      <td>nan</td>\n",
       "      <td>nan</td>\n",
       "      <td>nan</td>\n",
       "      <td>nan</td>\n",
       "      <td>nan</td>\n",
       "      <td>nan</td>\n",
       "      <td>nan</td>\n",
       "      <td>nan</td>\n",
       "      <td>nan</td>\n",
       "    </tr>\n",
       "    <tr>\n",
       "      <th>Revenues</th>\n",
       "      <th>TSLA</th>\n",
       "      <td>nan</td>\n",
       "      <td>nan</td>\n",
       "      <td>111.94</td>\n",
       "      <td>116.74</td>\n",
       "      <td>204.24</td>\n",
       "      <td>413.26</td>\n",
       "      <td>2,013.50</td>\n",
       "      <td>3,198.36</td>\n",
       "      <td>4,046.03</td>\n",
       "    </tr>\n",
       "    <tr>\n",
       "      <th>OperatingExpenses</th>\n",
       "      <th>TSLA</th>\n",
       "      <td>nan</td>\n",
       "      <td>nan</td>\n",
       "      <td>61.43</td>\n",
       "      <td>177.57</td>\n",
       "      <td>313.08</td>\n",
       "      <td>424.35</td>\n",
       "      <td>517.54</td>\n",
       "      <td>1,068.36</td>\n",
       "      <td>1,640.13</td>\n",
       "    </tr>\n",
       "    <tr>\n",
       "      <th>OperatingIncomeLoss</th>\n",
       "      <th>TSLA</th>\n",
       "      <td>nan</td>\n",
       "      <td>nan</td>\n",
       "      <td>-51.90</td>\n",
       "      <td>-146.84</td>\n",
       "      <td>-251.49</td>\n",
       "      <td>-394.28</td>\n",
       "      <td>-61.28</td>\n",
       "      <td>-186.69</td>\n",
       "      <td>-716.63</td>\n",
       "    </tr>\n",
       "  </tbody>\n",
       "</table>\n",
       "</div>"
      ],
      "text/plain": [
       "                                         2007                 2008                 2009                 2010                 2011                 2012                 2013                 2014                 2015\n",
       "Revenues            AFL             15,393.00            16,554.00            18,254.00            20,732.00            22,171.00            25,364.00            23,939.00            22,728.00            20,872.00\n",
       "OperatingExpenses   AFL                   nan                  nan                  nan                  nan                  nan                  nan                  nan                  nan                  nan\n",
       "OperatingIncomeLoss AFL                   nan                  nan                  nan                  nan                  nan                  nan                  nan                  nan                  nan\n",
       "Revenues            TSLA                  nan                  nan               111.94               116.74               204.24               413.26             2,013.50             3,198.36             4,046.03\n",
       "OperatingExpenses   TSLA                  nan                  nan                61.43               177.57               313.08               424.35               517.54             1,068.36             1,640.13\n",
       "OperatingIncomeLoss TSLA                  nan                  nan               -51.90              -146.84              -251.49              -394.28               -61.28              -186.69              -716.63"
      ]
     },
     "execution_count": 60,
     "metadata": {},
     "output_type": "execute_result"
    }
   ],
   "source": [
    "pd.concat([i2, fin])"
   ]
  },
  {
   "cell_type": "code",
   "execution_count": null,
   "metadata": {
    "collapsed": true
   },
   "outputs": [],
   "source": []
  }
 ],
 "metadata": {
  "kernelspec": {
   "display_name": "Python 3",
   "language": "python",
   "name": "python3"
  },
  "language_info": {
   "codemirror_mode": {
    "name": "ipython",
    "version": 3
   },
   "file_extension": ".py",
   "mimetype": "text/x-python",
   "name": "python",
   "nbconvert_exporter": "python",
   "pygments_lexer": "ipython3",
   "version": "3.5.2"
  }
 },
 "nbformat": 4,
 "nbformat_minor": 1
}
