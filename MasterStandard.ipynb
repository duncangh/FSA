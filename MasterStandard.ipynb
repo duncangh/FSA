{
 "cells": [
  {
   "cell_type": "code",
   "execution_count": 134,
   "metadata": {
    "collapsed": false
   },
   "outputs": [],
   "source": [
    "import os\n",
    "import pandas as pd\n",
    "import numpy as np\n",
    "import pickle\n",
    "import collections\n",
    "from Graham.Aggregation import Aggregate\n",
    "import pandas_datareader.data as web\n",
    "pd.set_option('mode.chained_assignment', None)\n",
    "pd.set_option('display.width', 1500)\n",
    "pd.set_option('display.precision', 2)\n",
    "pd.options.display.float_format = '{:20,.2f}'.format\n",
    "import numpy as np"
   ]
  },
  {
   "cell_type": "code",
   "execution_count": 52,
   "metadata": {
    "collapsed": false
   },
   "outputs": [],
   "source": [
    "symbols = np.array(os.listdir('/Users/duncangh/PycharmProjects/FSA/data/financials_data/')[1:])"
   ]
  },
  {
   "cell_type": "code",
   "execution_count": null,
   "metadata": {
    "collapsed": false,
    "scrolled": true
   },
   "outputs": [],
   "source": []
  },
  {
   "cell_type": "code",
   "execution_count": null,
   "metadata": {
    "collapsed": false
   },
   "outputs": [],
   "source": []
  },
  {
   "cell_type": "code",
   "execution_count": null,
   "metadata": {
    "collapsed": false,
    "scrolled": true
   },
   "outputs": [],
   "source": []
  },
  {
   "cell_type": "code",
   "execution_count": null,
   "metadata": {
    "collapsed": false
   },
   "outputs": [],
   "source": [
    "\n"
   ]
  },
  {
   "cell_type": "code",
   "execution_count": 137,
   "metadata": {
    "collapsed": false
   },
   "outputs": [],
   "source": [
    "class Standardize:\n",
    "    def __init__(self, sym, rf=1.5):\n",
    "        self.symbol = sym\n",
    "        self.statements = Aggregate(sym).statements\n",
    "        self.risk_free = rf\n",
    "\n",
    "        self.balance = self.statements[0] / 10 ** 6\n",
    "        self.income = self.statements[1] / 10 ** 6\n",
    "        self.cash = self.statements[2] / 10 ** 6\n",
    "        \n",
    "        \n",
    "        self.current_assets = np.array(['IncomeTaxesReceivable', 'OtherAssetsCurrent',\n",
    "       'DeferredTaxAssetsLiabilitiesNetCurrent', 'RegulatoryAssetsCurrent',\n",
    "       'InventoryNet', 'OtherPrepaidExpenseCurrent',\n",
    "       'InventoryFinishedGoods', 'ReceivablesNetCurrent', 'PrepaidTaxes',\n",
    "       'InventoryWorkInProcess', 'PrepaidExpenseCurrent',\n",
    "       'DerivativeAssetsCurrent',\n",
    "       'AssetsOfDisposalGroupIncludingDiscontinuedOperationCurrent',\n",
    "       'InventoryRawMaterialsAndSupplies',\n",
    "       'CashAndCashEquivalentsAtCarryingValue', 'ShortTermInvestments',\n",
    "       'CapitalLeasedAssetsGross',\n",
    "       'RestrictedCashAndCashEquivalentsAtCarryingValue',\n",
    "       'RestrictedCashAndInvestmentsCurrent',\n",
    "       'CashEquivalentsAtCarryingValue', 'MarketableSecuritiesCurrent',\n",
    "       'MarketableSecuritiesCurrent', 'NotesAndLoansReceivableNetCurrent',\n",
    "       'AccountsReceivableNetCurrent',\n",
    "       'AvailableForSaleSecuritiesDebtSecuritiesCurrent',\n",
    "       'AvailableForSaleSecuritiesDebtSecuritiesCurrent',\n",
    "       'AvailableForSaleSecuritiesCurrent',\n",
    "       'PrepaidExpenseAndOtherAssetsCurrent'])\n",
    "\n",
    "        self.current_liabilities = np.array(['CostsInExcessOfBillingsOnUncompletedContractsOrProgramsExpectedToBeCollectedWithinOneYear',\n",
    "       'LiabilitiesOfDisposalGroupIncludingDiscontinuedOperationCurrent',\n",
    "       'OtherLiabilitiesCurrent', 'DueToRelatedPartiesCurrent',\n",
    "       'RegulatoryLiabilityCurrent',\n",
    "       'DeferredTaxLiabilitiesCurrent', 'AccountsPayableCurrent',\n",
    "       'DebtCurrent', 'AccountsPayableAndAccruedLiabilitiesCurrent',\n",
    "       'AccruedLiabilitiesCurrent', 'EmployeeRelatedLiabilitiesCurrent','CustomerAdvancesCurrent',\n",
    "       'DeferredRevenueCurrent', 'DeferredRevenueAndCreditsCurrent',\n",
    "       'DerivativeLiabilitiesCurrent', 'OtherShortTermBorrowings',\n",
    "       'BankOverdrafts', 'CommercialPaper', 'TaxesPayableCurrent',\n",
    "       'ShortTermBankLoansAndNotesPayable',\n",
    "       'CapitalLeaseObligationsCurrent', 'ShortTermBorrowings',\n",
    "       'LongTermDebtCurrent'])\n",
    "        \n",
    "    \n",
    "        self.interest_bearing = np.array(['DueToRelatedPartiesCurrent', 'DebtCurrent',\n",
    "       'OtherShortTermBorrowings', 'BankOverdrafts', 'CommercialPaper',\n",
    "       'ShortTermBankLoansAndNotesPayable',\n",
    "       'CapitalLeaseObligationsCurrent', 'ShortTermBorrowings',\n",
    "       'LongTermDebtCurrent', 'LongTermDebtAndCapitalLeaseObligations',\n",
    "       'CapitalLeaseObligationsNoncurrent', 'OtherLongTermDebtNoncurrent',\n",
    "       'LongTermDebtAndCapitalLeaseObligationsCurrent',\n",
    "       'LongTermDebtNoncurrent', 'SeniorLongTermNotes',\n",
    "       'ConvertibleLongTermNotesPayable'], \n",
    "          dtype='<U45')\n",
    "        \n",
    "        self.fcfe = self.free_cash_flow_equity()\n",
    "\n",
    "    \n",
    "    def change_nwc(self):\n",
    "        if 'AssetsCurrent' and 'LiabilitiesCurrent' in self.balance.index:\n",
    "            net = self.balance.loc['AssetsCurrent'] - self.balance.loc['LiabilitiesCurrent']\n",
    "    \n",
    "        else:\n",
    "            net = (self.balance[self.balance.index.isin(self.current_assets)].sum()).fillna(0) - (self.balance[self.balance.index.isin(self.current_liabilities)].sum()).fillna(0)\n",
    "    \n",
    "        self.chg_wc = net - net.shift(1)\n",
    "        return self.chg_wc.fillna(0)\n",
    "    \n",
    "\n",
    "    def CapEx(self):\n",
    "        self.capex = self.cash.loc[self.cash.index[self.cash.index.str.contains('PropertyPlantAndE')]]\n",
    "\n",
    "        if self.capex.empty:\n",
    "            return 0\n",
    "        else:\n",
    "            self.capex = self.capex.loc[self.capex.index.values[0]]\n",
    "            return self.capex.fillna(0)\n",
    "\n",
    "    def debt_cash(self):\n",
    "        issued = self.cash.loc[\n",
    "            self.cash.index[(self.cash.index.str.contains('Debt')) & (self.cash.index.str.contains('Iss'))]]\n",
    "        if not issued.empty:\n",
    "            issued = issued.loc[issued.index[0]].fillna(0)\n",
    "\n",
    "        payments = self.cash.loc[\n",
    "            self.cash.index[(self.cash.index.str.contains('Debt')) & (self.cash.index.str.contains('Repay'))]]\n",
    "        if not payments.empty:\n",
    "            payments = payments.loc[payments.index[0]].fillna(0)\n",
    "\n",
    "        if payments.empty:\n",
    "            return issued\n",
    "\n",
    "        elif issued.empty:\n",
    "            return payments\n",
    "\n",
    "        else:\n",
    "            return (issued - payments).fillna(0)\n",
    "\n",
    "    def DeprAmort(self):\n",
    "        DA = self.cash.loc[\n",
    "            self.cash.index[(self.cash.index.str.contains('Depre')) | (self.cash.index.str.contains('Amort'))]]\n",
    "        if not DA.empty:\n",
    "            return DA.max()\n",
    "        else:\n",
    "            return 0\n",
    "\n",
    "    def interest_expense(self):\n",
    "        # Handle all known cases of interest expense\n",
    "        int_exp = self.income.loc[self.income.index[(self.income.index.str.contains('Interest'))\n",
    "                                                    & (~self.income.index.str.contains('Minor'))\n",
    "                                                    & (~self.income.index.str.contains('controll'))\n",
    "                                                    & (~self.income.index.str.contains('Before'))\n",
    "                                                    & (~self.income.index.str.contains('Gain'))\n",
    "                                                    & (~self.income.index.str.contains('TotalRevenues'))\n",
    "                                                    & (~self.income.index.str.contains('Investment'))\n",
    "                                                    & (~self.income.index.str.contains('Nonopera'))\n",
    "                                                    & (~self.income.index.str.contains('Income'))].values[0]]\n",
    "\n",
    "        if not int_exp.empty:\n",
    "            return int_exp.fillna(0)\n",
    "        else:\n",
    "            return 0\n",
    "\n",
    "    def ebit(self):\n",
    "        \"\"\"\n",
    "        Calculate the EBIT\n",
    "\n",
    "        \"\"\"\n",
    "        try:\n",
    "            EBIT = self.income.loc['OperatingIncomeLoss'].fillna(0)\n",
    "        except:\n",
    "            EBIT = self.income.loc[self.income.index[self.income.index.str.contains('OperatingIncome')]].fillna(0)\n",
    "            if EBIT.empty:\n",
    "                try:\n",
    "                    EBIT = self.income.loc['NetIncomeLoss'] + self.income.loc[\n",
    "                        'IncomeTaxExpenseBenefit'] + self.interest_expense()\n",
    "                    EBIT = EBIT.fillna(0)\n",
    "                except:\n",
    "                    pass\n",
    "\n",
    "        return EBIT\n",
    "\n",
    "    def free_cash_flow_equity(self):\n",
    "        \"\"\"\n",
    "        FCFe = NI + D/A - ∆ nwc - CapEx  + Net Debt\n",
    "        \"\"\"\n",
    "\n",
    "        try:\n",
    "            NI = self.income.loc['NetIncomeLoss'].fillna(0)\n",
    "        except:\n",
    "            try:\n",
    "                NI = self.cash.loc['NetIncomeLoss'].fillna(0)\n",
    "            except:\n",
    "                NI = self.income.loc[self.income.index[self.income.index.str.contains('NetIncome')].values[0]].fillna(0)\n",
    "\n",
    "        DA = self.DeprAmort()\n",
    "        nwc_chg = self.change_nwc()\n",
    "        capex = self.CapEx()\n",
    "\n",
    "        net_debt = self.debt_cash()\n",
    "        if net_debt.empty:\n",
    "            net_debt = 0\n",
    "\n",
    "        NIDA = ((NI + DA).fillna(0) + net_debt).fillna(0)\n",
    "        nwcap = (nwc_chg + capex).fillna(0)\n",
    "        return (NIDA - nwcap)\n",
    "\n",
    "    def free_cash_flow_firm(self):\n",
    "        \"\"\"\n",
    "        FCFf = EBIT + Interest Expense + D/A - ∆ nwc - CapEx\n",
    "        \"\"\"\n",
    "\n",
    "        EBIT = self.ebit()\n",
    "\n",
    "        DA = self.DeprAmort()\n",
    "        nwc_chg = self.change_nwc()\n",
    "        capex = self.CapEx()\n",
    "\n",
    "        int_exp = self.interest_expense()\n",
    "\n",
    "        EBITDA = ((EBIT + DA).fillna(0) + int_exp).fillna(0)\n",
    "        nwcap = (nwc_chg + capex).fillna(0)\n",
    "        return (EBITDA - nwcap)\n",
    "    \n",
    "    def degree_of_operating_leverage(self):\n",
    "        \"\"\"\n",
    "              Percent Change in EBIT\n",
    "        DOL =  --------------------\n",
    "              Percent Change in Sales\n",
    "          \n",
    "        \"\"\"\n",
    "        return self.income.loc['Revenues'].pct_change() / self.ebit().pct_change()\n",
    "\n",
    "    \n",
    "    def book_value_debt(self):\n",
    "        return self.balance[self.balance.index.isin(self.interest_bearing)].sum()\n",
    "    \n",
    "\n",
    "    def book_value_equity(self):\n",
    "        \"\"\"\n",
    "        Book Value of Equity = Value of Stockholders Equity\n",
    "\n",
    "        \"\"\"\n",
    "        return self.balance.loc['StockholdersEquity'].fillna(0)\n",
    "\n",
    "    def cost_debt(self, debt):\n",
    "        \"\"\"\n",
    "        Calculate the cost of debt Using\n",
    "            1. amount of debt\n",
    "            2. interest expense\n",
    "            3. Tax Rate if possible\n",
    "\n",
    "        \"\"\"\n",
    "        interest = self.interest_expense()\n",
    "        earnings_before_taxes = (self.ebit() - interest).fillna(0)\n",
    "        tax_rate = self.income.loc['IncomeTaxExpenseBenefit'].fillna(0) / earnings_before_taxes\n",
    "\n",
    "        interest_rate = (interest / debt) * 100\n",
    "\n",
    "        if 0 < tax_rate.mean() < 1:\n",
    "            return (interest_rate * (1 - tax_rate)).fillna(0)\n",
    "        else:\n",
    "            return interest_rate.fillna(0)\n",
    "\n",
    "    def cost_equity(self):\n",
    "        \"\"\"\n",
    "        Rrf + ß(Rm - Rrf)\n",
    "\n",
    "        MRP is assumed to be 4.5%\n",
    "        \"\"\"\n",
    "#         beta = pd.read_pickle('/Users/duncangh/PycharmProjects/FSA/Graham/Beta.Pkl')['SPY'].abs()\n",
    "#         beta.index = beta.index.astype(str)\n",
    "        beta = self.beta()\n",
    "        return self.risk_free + beta * (4.5 - self.risk_free)\n",
    "    \n",
    "    def beta(self):\n",
    "        try:\n",
    "            end = pd.to_datetime('today')\n",
    "            start = end - pd.to_timedelta('1080D') # 3 years\n",
    "            stocks = web.get_data_yahoo(['^GSPC', self.symbol], start, end)['Adj Close']\n",
    "\n",
    "            beta = (stocks.pct_change().cov() / stocks.pct_change().var()).loc[self.symbol, '^GSPC']\n",
    "        except:\n",
    "            beta = 1\n",
    "        return beta\n",
    "\n",
    "    def weighted_average_cost_of_capital(self):\n",
    "        \"\"\"\n",
    "        Total Capital = BV(equity) + BV(debt)\n",
    "        Book Value of Equity = Assets - Liabilities\n",
    "        Book Value of Debt = (Assets - Equity) - Non-Interest Bearing Obligations\n",
    "\n",
    "        Equity Cost = Rrf + ß(Rm - Rrf)\n",
    "        Cost of Debt = (Interest Expense / Book Value of Debt) * (1 - MarginalTaxRate)\n",
    "\n",
    "        Weight of Equity = BV Equity / Total Capital\n",
    "        Weight of Debt = BV of Debt / Total Capital\n",
    "\n",
    "        WACC = (WeightofEquity * CostofEquity) + (WeightofDebt * CostofDebt)\n",
    "        WACC = rD(1 - Tc) * (D / V) + rE * (E / V)\n",
    "\n",
    "        :return: WACC\n",
    "        \"\"\"\n",
    "        book_value_debt = self.book_value_debt()\n",
    "        book_value_equity = self.book_value_equity()\n",
    "\n",
    "        total_capital = book_value_debt + book_value_equity\n",
    "\n",
    "        weight_debt = book_value_debt / total_capital\n",
    "        weight_equity = book_value_equity / total_capital\n",
    "\n",
    "        cost_debt = self.cost_debt(book_value_debt)\n",
    "        cost_equity = self.cost_equity()\n",
    "\n",
    "        wacc = (weight_debt * cost_debt) + (weight_equity * cost_equity)\n",
    "\n",
    "        return weight_debt, weight_equity, cost_debt, cost_equity, wacc\n",
    "\n",
    "    def make_model(self):\n",
    "        wd, we, cd, ce, wacc = self.weighted_average_cost_of_capital()\n",
    "        fcfe = self.free_cash_flow_equity()\n",
    "        fcff = self.free_cash_flow_firm()\n",
    "        model = pd.DataFrame({'FCFF': fcff, 'FCFE': fcfe})\n",
    "        model = model.assign(Cost_Equity=ce, Cost_Debt=cd, Weight_Equity=we, Weight_Debt=wd, WACC=wacc)\n",
    "        model = model.fillna(method='bfill')\n",
    "        return model"
   ]
  },
  {
   "cell_type": "code",
   "execution_count": 140,
   "metadata": {
    "collapsed": false
   },
   "outputs": [
    {
     "data": {
      "text/plain": [
       "['ADS',\n",
       " 'AFL',\n",
       " 'AGN',\n",
       " 'AMZN',\n",
       " 'AON',\n",
       " 'BBY',\n",
       " 'BEN',\n",
       " 'BHI',\n",
       " 'BLL',\n",
       " 'CL',\n",
       " 'CRM',\n",
       " 'CXO',\n",
       " 'D',\n",
       " 'DLPH',\n",
       " 'EBAY',\n",
       " 'ED',\n",
       " 'ETFC',\n",
       " 'EXPD',\n",
       " 'FLS',\n",
       " 'GPC',\n",
       " 'GWW',\n",
       " 'HCP',\n",
       " 'HST',\n",
       " 'HUM',\n",
       " 'INTU',\n",
       " 'JEC',\n",
       " 'KHC',\n",
       " 'LH',\n",
       " 'MMM',\n",
       " 'NFLX',\n",
       " 'NVDA',\n",
       " 'ORCL',\n",
       " 'TSLA']"
      ]
     },
     "execution_count": 140,
     "metadata": {},
     "output_type": "execute_result"
    }
   ],
   "source": [
    "success = []\n",
    "for sym in symbols:\n",
    "    try:\n",
    "        Standardize(sym).make_model()\n",
    "        success.append(sym)\n",
    "    except:\n",
    "        pass\n",
    "success"
   ]
  },
  {
   "cell_type": "code",
   "execution_count": 141,
   "metadata": {
    "collapsed": false
   },
   "outputs": [
    {
     "data": {
      "text/plain": [
       "array(['ADS', 'AFL', 'AGN', 'AMZN', 'AON', 'BBY', 'BEN', 'BHI', 'BLL',\n",
       "       'CL', 'CRM', 'CXO', 'D', 'DLPH', 'EBAY', 'ED', 'ETFC', 'EXPD',\n",
       "       'FLS', 'GPC', 'GWW', 'HCP', 'HST', 'HUM', 'INTU', 'JEC', 'KHC',\n",
       "       'LH', 'MMM', 'NFLX', 'NVDA', 'ORCL', 'TSLA'], \n",
       "      dtype='<U4')"
      ]
     },
     "execution_count": 141,
     "metadata": {},
     "output_type": "execute_result"
    }
   ],
   "source": [
    "np.array(success)"
   ]
  },
  {
   "cell_type": "code",
   "execution_count": null,
   "metadata": {
    "collapsed": true
   },
   "outputs": [],
   "source": []
  },
  {
   "cell_type": "code",
   "execution_count": 139,
   "metadata": {
    "collapsed": false
   },
   "outputs": [
    {
     "data": {
      "text/html": [
       "<div>\n",
       "<table border=\"1\" class=\"dataframe\">\n",
       "  <thead>\n",
       "    <tr style=\"text-align: right;\">\n",
       "      <th></th>\n",
       "      <th>FCFE</th>\n",
       "      <th>FCFF</th>\n",
       "      <th>Cost_Debt</th>\n",
       "      <th>Cost_Equity</th>\n",
       "      <th>WACC</th>\n",
       "      <th>Weight_Debt</th>\n",
       "      <th>Weight_Equity</th>\n",
       "    </tr>\n",
       "  </thead>\n",
       "  <tbody>\n",
       "    <tr>\n",
       "      <th>2007</th>\n",
       "      <td>837.00</td>\n",
       "      <td>978.00</td>\n",
       "      <td>0.00</td>\n",
       "      <td>5.09</td>\n",
       "      <td>4.51</td>\n",
       "      <td>0.27</td>\n",
       "      <td>0.73</td>\n",
       "    </tr>\n",
       "    <tr>\n",
       "      <th>2008</th>\n",
       "      <td>1,030.00</td>\n",
       "      <td>1,200.00</td>\n",
       "      <td>0.00</td>\n",
       "      <td>5.09</td>\n",
       "      <td>4.51</td>\n",
       "      <td>0.27</td>\n",
       "      <td>0.73</td>\n",
       "    </tr>\n",
       "    <tr>\n",
       "      <th>2009</th>\n",
       "      <td>1,367.00</td>\n",
       "      <td>1,541.00</td>\n",
       "      <td>0.00</td>\n",
       "      <td>5.09</td>\n",
       "      <td>4.51</td>\n",
       "      <td>0.27</td>\n",
       "      <td>0.73</td>\n",
       "    </tr>\n",
       "    <tr>\n",
       "      <th>2010</th>\n",
       "      <td>2,200.00</td>\n",
       "      <td>2,350.00</td>\n",
       "      <td>0.00</td>\n",
       "      <td>5.09</td>\n",
       "      <td>4.51</td>\n",
       "      <td>0.27</td>\n",
       "      <td>0.73</td>\n",
       "    </tr>\n",
       "    <tr>\n",
       "      <th>2011</th>\n",
       "      <td>1,891.00</td>\n",
       "      <td>2,010.00</td>\n",
       "      <td>0.00</td>\n",
       "      <td>5.09</td>\n",
       "      <td>4.51</td>\n",
       "      <td>0.27</td>\n",
       "      <td>0.73</td>\n",
       "    </tr>\n",
       "    <tr>\n",
       "      <th>2012</th>\n",
       "      <td>1,713.00</td>\n",
       "      <td>-858.00</td>\n",
       "      <td>2.98</td>\n",
       "      <td>5.09</td>\n",
       "      <td>4.51</td>\n",
       "      <td>0.27</td>\n",
       "      <td>0.73</td>\n",
       "    </tr>\n",
       "    <tr>\n",
       "      <th>2013</th>\n",
       "      <td>1,126.00</td>\n",
       "      <td>1,344.00</td>\n",
       "      <td>4.42</td>\n",
       "      <td>5.09</td>\n",
       "      <td>4.92</td>\n",
       "      <td>0.25</td>\n",
       "      <td>0.75</td>\n",
       "    </tr>\n",
       "    <tr>\n",
       "      <th>2014</th>\n",
       "      <td>4,378.00</td>\n",
       "      <td>-1,352.00</td>\n",
       "      <td>2.54</td>\n",
       "      <td>5.09</td>\n",
       "      <td>3.98</td>\n",
       "      <td>0.43</td>\n",
       "      <td>0.57</td>\n",
       "    </tr>\n",
       "    <tr>\n",
       "      <th>2015</th>\n",
       "      <td>3,304.00</td>\n",
       "      <td>5,047.00</td>\n",
       "      <td>5.57</td>\n",
       "      <td>5.09</td>\n",
       "      <td>5.27</td>\n",
       "      <td>0.38</td>\n",
       "      <td>0.62</td>\n",
       "    </tr>\n",
       "  </tbody>\n",
       "</table>\n",
       "</div>"
      ],
      "text/plain": [
       "                     FCFE                 FCFF            Cost_Debt          Cost_Equity                 WACC          Weight_Debt        Weight_Equity\n",
       "2007               837.00               978.00                 0.00                 5.09                 4.51                 0.27                 0.73\n",
       "2008             1,030.00             1,200.00                 0.00                 5.09                 4.51                 0.27                 0.73\n",
       "2009             1,367.00             1,541.00                 0.00                 5.09                 4.51                 0.27                 0.73\n",
       "2010             2,200.00             2,350.00                 0.00                 5.09                 4.51                 0.27                 0.73\n",
       "2011             1,891.00             2,010.00                 0.00                 5.09                 4.51                 0.27                 0.73\n",
       "2012             1,713.00              -858.00                 2.98                 5.09                 4.51                 0.27                 0.73\n",
       "2013             1,126.00             1,344.00                 4.42                 5.09                 4.92                 0.25                 0.75\n",
       "2014             4,378.00            -1,352.00                 2.54                 5.09                 3.98                 0.43                 0.57\n",
       "2015             3,304.00             5,047.00                 5.57                 5.09                 5.27                 0.38                 0.62"
      ]
     },
     "execution_count": 139,
     "metadata": {},
     "output_type": "execute_result"
    }
   ],
   "source": [
    "s = Standardize('AMZN')\n",
    "s.make_model()"
   ]
  },
  {
   "cell_type": "code",
   "execution_count": null,
   "metadata": {
    "collapsed": true
   },
   "outputs": [],
   "source": []
  },
  {
   "cell_type": "code",
   "execution_count": null,
   "metadata": {
    "collapsed": true
   },
   "outputs": [],
   "source": []
  },
  {
   "cell_type": "code",
   "execution_count": null,
   "metadata": {
    "collapsed": true
   },
   "outputs": [],
   "source": []
  },
  {
   "cell_type": "code",
   "execution_count": 120,
   "metadata": {
    "collapsed": false
   },
   "outputs": [
    {
     "data": {
      "text/plain": [
       "2009                    nan\n",
       "2010                   2.34\n",
       "2011                 105.16\n",
       "2012                 180.23\n",
       "2013                -458.49\n",
       "2014                  28.76\n",
       "2015                   9.34\n",
       "dtype: float64"
      ]
     },
     "execution_count": 120,
     "metadata": {},
     "output_type": "execute_result"
    }
   ],
   "source": [
    "\n",
    "def degree_of_operating_leverage(standard):\n",
    "    \"\"\"\n",
    "          Percent Change in EBIT\n",
    "    DOL =  --------------------\n",
    "          Percent Change in Sales\n",
    "          \n",
    "    \"\"\"\n",
    "    return standard.income.loc['Revenues'].pct_change() / standard.ebit().pct_change()\n",
    "degree_of_operating_leverage(tsla) * 100"
   ]
  },
  {
   "cell_type": "code",
   "execution_count": 121,
   "metadata": {
    "collapsed": false
   },
   "outputs": [
    {
     "data": {
      "text/html": [
       "<div>\n",
       "<table border=\"1\" class=\"dataframe\">\n",
       "  <thead>\n",
       "    <tr style=\"text-align: right;\">\n",
       "      <th></th>\n",
       "      <th>2009</th>\n",
       "      <th>2010</th>\n",
       "      <th>2011</th>\n",
       "      <th>2012</th>\n",
       "      <th>2013</th>\n",
       "      <th>2014</th>\n",
       "      <th>2015</th>\n",
       "    </tr>\n",
       "    <tr>\n",
       "      <th>Fiel</th>\n",
       "      <th></th>\n",
       "      <th></th>\n",
       "      <th></th>\n",
       "      <th></th>\n",
       "      <th></th>\n",
       "      <th></th>\n",
       "      <th></th>\n",
       "    </tr>\n",
       "  </thead>\n",
       "  <tbody>\n",
       "    <tr>\n",
       "      <th>Revenues</th>\n",
       "      <td>111.94</td>\n",
       "      <td>116.74</td>\n",
       "      <td>204.24</td>\n",
       "      <td>413.26</td>\n",
       "      <td>2,013.50</td>\n",
       "      <td>3,198.36</td>\n",
       "      <td>4,046.03</td>\n",
       "    </tr>\n",
       "    <tr>\n",
       "      <th>OperatingExpenses</th>\n",
       "      <td>61.43</td>\n",
       "      <td>177.57</td>\n",
       "      <td>313.08</td>\n",
       "      <td>424.35</td>\n",
       "      <td>517.54</td>\n",
       "      <td>1,068.36</td>\n",
       "      <td>1,640.13</td>\n",
       "    </tr>\n",
       "    <tr>\n",
       "      <th>OtherNonoperatingIncomeExpense</th>\n",
       "      <td>-1.45</td>\n",
       "      <td>-6.58</td>\n",
       "      <td>-2.65</td>\n",
       "      <td>-1.83</td>\n",
       "      <td>22.60</td>\n",
       "      <td>1.81</td>\n",
       "      <td>-41.65</td>\n",
       "    </tr>\n",
       "  </tbody>\n",
       "</table>\n",
       "</div>"
      ],
      "text/plain": [
       "                                               2009                 2010                 2011                 2012                 2013                 2014                 2015\n",
       "Fiel                                                                                                                                                                             \n",
       "Revenues                                     111.94               116.74               204.24               413.26             2,013.50             3,198.36             4,046.03\n",
       "OperatingExpenses                             61.43               177.57               313.08               424.35               517.54             1,068.36             1,640.13\n",
       "OtherNonoperatingIncomeExpense                -1.45                -6.58                -2.65                -1.83                22.60                 1.81               -41.65"
      ]
     },
     "execution_count": 121,
     "metadata": {},
     "output_type": "execute_result"
    }
   ],
   "source": [
    "tsla = Standardize('TSLA')\n",
    "tsla.income.loc[['Revenues', 'OperatingExpenses', 'OtherNonoperatingIncomeExpense']]"
   ]
  },
  {
   "cell_type": "code",
   "execution_count": 124,
   "metadata": {
    "collapsed": false
   },
   "outputs": [
    {
     "data": {
      "text/html": [
       "<div>\n",
       "<table border=\"1\" class=\"dataframe\">\n",
       "  <thead>\n",
       "    <tr style=\"text-align: right;\">\n",
       "      <th></th>\n",
       "      <th>2009</th>\n",
       "      <th>2010</th>\n",
       "      <th>2011</th>\n",
       "      <th>2012</th>\n",
       "      <th>2013</th>\n",
       "      <th>2014</th>\n",
       "      <th>2015</th>\n",
       "    </tr>\n",
       "    <tr>\n",
       "      <th>Fiel</th>\n",
       "      <th></th>\n",
       "      <th></th>\n",
       "      <th></th>\n",
       "      <th></th>\n",
       "      <th></th>\n",
       "      <th></th>\n",
       "      <th></th>\n",
       "    </tr>\n",
       "  </thead>\n",
       "  <tbody>\n",
       "    <tr>\n",
       "      <th>Revenues</th>\n",
       "      <td>nan</td>\n",
       "      <td>0.04</td>\n",
       "      <td>0.75</td>\n",
       "      <td>1.02</td>\n",
       "      <td>3.87</td>\n",
       "      <td>0.59</td>\n",
       "      <td>0.27</td>\n",
       "    </tr>\n",
       "    <tr>\n",
       "      <th>OperatingExpenses</th>\n",
       "      <td>nan</td>\n",
       "      <td>1.89</td>\n",
       "      <td>0.76</td>\n",
       "      <td>0.36</td>\n",
       "      <td>0.22</td>\n",
       "      <td>1.06</td>\n",
       "      <td>0.54</td>\n",
       "    </tr>\n",
       "    <tr>\n",
       "      <th>OperatingIncomeLoss</th>\n",
       "      <td>nan</td>\n",
       "      <td>1.83</td>\n",
       "      <td>0.71</td>\n",
       "      <td>0.57</td>\n",
       "      <td>-0.84</td>\n",
       "      <td>2.05</td>\n",
       "      <td>2.84</td>\n",
       "    </tr>\n",
       "  </tbody>\n",
       "</table>\n",
       "</div>"
      ],
      "text/plain": [
       "                                    2009                 2010                 2011                 2012                 2013                 2014                 2015\n",
       "Fiel                                                                                                                                                                  \n",
       "Revenues                             nan                 0.04                 0.75                 1.02                 3.87                 0.59                 0.27\n",
       "OperatingExpenses                    nan                 1.89                 0.76                 0.36                 0.22                 1.06                 0.54\n",
       "OperatingIncomeLoss                  nan                 1.83                 0.71                 0.57                -0.84                 2.05                 2.84"
      ]
     },
     "execution_count": 124,
     "metadata": {},
     "output_type": "execute_result"
    }
   ],
   "source": [
    "tsla.income.loc[['Revenues', 'OperatingExpenses', 'OperatingIncomeLoss']].pct_change(axis=1)"
   ]
  },
  {
   "cell_type": "code",
   "execution_count": null,
   "metadata": {
    "collapsed": false
   },
   "outputs": [],
   "source": []
  },
  {
   "cell_type": "code",
   "execution_count": 109,
   "metadata": {
    "collapsed": true
   },
   "outputs": [],
   "source": [
    "tsla = Standardize('TSLA')\n",
    "income = tsla.income"
   ]
  },
  {
   "cell_type": "code",
   "execution_count": 110,
   "metadata": {
    "collapsed": false
   },
   "outputs": [
    {
     "data": {
      "text/plain": [
       "2009                 -51.90\n",
       "2010                -146.84\n",
       "2011                -251.49\n",
       "2012                -394.28\n",
       "2013                 -61.28\n",
       "2014                -186.69\n",
       "2015                -716.63\n",
       "Name: OperatingIncomeLoss, dtype: float64"
      ]
     },
     "execution_count": 110,
     "metadata": {},
     "output_type": "execute_result"
    }
   ],
   "source": [
    "tsla.ebit()"
   ]
  },
  {
   "cell_type": "code",
   "execution_count": null,
   "metadata": {
    "collapsed": true
   },
   "outputs": [],
   "source": []
  },
  {
   "cell_type": "code",
   "execution_count": null,
   "metadata": {
    "collapsed": false
   },
   "outputs": [],
   "source": [
    "debt_cash = ['RepaymentOfNotesReceivableFromRelatedParties',\n",
    "       'InterestPaidCapitalized', 'GainsLossesOnExtinguishmentOfDebt',\n",
    "       'ProceedsFromRepaymentsOfLongTermDebtAndCapitalSecurities',\n",
    "       'ProceedsFromRepaymentsOfCommercialPaper',\n",
    "       'ProceedsFromRepaymentsOfBankOverdrafts', 'ProceedsFromOtherDebt',\n",
    "       'PaymentsForProceedsFromLoansReceivable', 'PaymentsOfLoanCosts',\n",
    "       'RepaymentsOfOtherDebt', 'PaymentsOfDebtIssuanceCosts',\n",
    "       'ProceedsFromRepaymentsOfShortTermDebt',\n",
    "       'ProceedsFromShortTermDebt', 'RepaymentsOfLinesOfCredit',\n",
    "       'ProceedsFromLinesOfCredit',\n",
    "       'RepaymentsOfLongTermDebtAndCapitalSecurities',\n",
    "       'RepaymentsOfShortTermDebt',\n",
    "       'ProceedsFromShortTermDebtMaturingInMoreThanThreeMonths',\n",
    "       'ProceedsFromRepaymentsOfShortTermDebtMaturingInThreeMonthsOrLess',\n",
    "       'RepaymentsOfLongTermCapitalLeaseObligations',\n",
    "       'ProceedsFromIssuanceOfSecuredDebt',\n",
    "       'RepaymentsOfLongTermLinesOfCredit',\n",
    "       'ProceedsFromIssuanceOfSeniorLongTermDebt',\n",
    "       'RepaymentsOfUnsecuredDebt', 'ProceedsFromIssuanceOfLongTermDebt',\n",
    "       'ProceedsFromLongTermLinesOfCredit',\n",
    "       'ProceedsFromMaturitiesPrepaymentsAndCallsOfAvailableForSaleSecurities',\n",
    "       'RepaymentsOfLongTermDebt', 'RepaymentsOfSecuredDebt',\n",
    "       'RepaymentsOfAssumedDebt', 'RepaymentsOfOtherLongTermDebt',\n",
    "       'RepaymentsOfConvertibleDebt',\n",
    "       'ProceedsFromIssuanceOfUnsecuredDebt',\n",
    "       'ProceedsFromConvertibleDebt',\n",
    "       'ProceedsFromSaleOfAvailableForSaleSecuritiesDebt',\n",
    "       'RepaymentsOfSeniorDebt']"
   ]
  },
  {
   "cell_type": "code",
   "execution_count": null,
   "metadata": {
    "collapsed": true
   },
   "outputs": [],
   "source": []
  },
  {
   "cell_type": "code",
   "execution_count": null,
   "metadata": {
    "collapsed": false
   },
   "outputs": [],
   "source": []
  },
  {
   "cell_type": "code",
   "execution_count": null,
   "metadata": {
    "collapsed": false
   },
   "outputs": [],
   "source": []
  },
  {
   "cell_type": "code",
   "execution_count": null,
   "metadata": {
    "collapsed": true
   },
   "outputs": [],
   "source": []
  }
 ],
 "metadata": {
  "kernelspec": {
   "display_name": "Python 3",
   "language": "python",
   "name": "python3"
  },
  "language_info": {
   "codemirror_mode": {
    "name": "ipython",
    "version": 3
   },
   "file_extension": ".py",
   "mimetype": "text/x-python",
   "name": "python",
   "nbconvert_exporter": "python",
   "pygments_lexer": "ipython3",
   "version": "3.5.2"
  }
 },
 "nbformat": 4,
 "nbformat_minor": 1
}
